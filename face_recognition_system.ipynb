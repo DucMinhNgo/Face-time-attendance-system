{
  "cells": [
    {
      "cell_type": "code",
      "execution_count": 1,
      "metadata": {
        "id": "K45oxPuOfAzn"
      },
      "outputs": [],
      "source": [
        "#1. Generation dataset\n",
        "#2. Training classifier and save it\n",
        "#3. Detect the face and named it if it is already stored in our dataset"
      ]
    },
    {
      "cell_type": "code",
      "execution_count": 2,
      "metadata": {
        "colab": {
          "base_uri": "https://localhost:8080/"
        },
        "id": "mcQCklrwifzw",
        "outputId": "8bb9ead6-bd29-4af1-f954-392405fcdb90"
      },
      "outputs": [
        {
          "name": "stdout",
          "output_type": "stream",
          "text": [
            "Cloning into 'face-time-attendance-system'...\n",
            "remote: Enumerating objects: 8, done.\u001b[K\n",
            "remote: Counting objects: 100% (8/8), done.\u001b[K\n",
            "remote: Compressing objects: 100% (7/7), done.\u001b[K\n",
            "remote: Total 8 (delta 0), reused 8 (delta 0), pack-reused 0\u001b[K\n",
            "Receiving objects: 100% (8/8), 143.65 KiB | 1.17 MiB/s, done.\n"
          ]
        }
      ],
      "source": [
        "!git clone https://github.com/DucMinhNgo/face-time-attendance-system.git"
      ]
    },
    {
      "cell_type": "code",
      "execution_count": 3,
      "metadata": {
        "colab": {
          "base_uri": "https://localhost:8080/"
        },
        "id": "nLjFiv4ai3lp",
        "outputId": "f755264d-cd92-478a-b225-35904eba8702"
      },
      "outputs": [
        {
          "name": "stdout",
          "output_type": "stream",
          "text": [
            "[Errno 2] No such file or directory: '/content/face-time-attendance-system'\n",
            "/Users/dustin/Desktop/Tech/face-time-attendance-system\n"
          ]
        }
      ],
      "source": [
        "%cd /content/face-time-attendance-system"
      ]
    },
    {
      "cell_type": "code",
      "execution_count": 4,
      "metadata": {
        "colab": {
          "base_uri": "https://localhost:8080/"
        },
        "id": "g67Xzat6ffip",
        "outputId": "e9781b35-4f07-4d29-e83d-af6ab9d9e16e"
      },
      "outputs": [
        {
          "name": "stdout",
          "output_type": "stream",
          "text": [
            "Requirement already satisfied: opencv-python in /Users/dustin/miniconda3/lib/python3.10/site-packages (4.8.0.76)\n",
            "Requirement already satisfied: numpy>=1.19.3 in /Users/dustin/miniconda3/lib/python3.10/site-packages (from opencv-python) (1.25.2)\n"
          ]
        }
      ],
      "source": [
        "# Generation\n",
        "!pip install opencv-python"
      ]
    },
    {
      "cell_type": "code",
      "execution_count": 5,
      "metadata": {
        "id": "uLUiJ-HNftb9"
      },
      "outputs": [],
      "source": [
        "import cv2"
      ]
    },
    {
      "cell_type": "code",
      "execution_count": 9,
      "metadata": {
        "colab": {
          "base_uri": "https://localhost:8080/",
          "height": 446
        },
        "id": "dyLN8vdDf0iN",
        "outputId": "a50f0226-188a-43a6-eadc-261bd74b22d5"
      },
      "outputs": [
        {
          "name": "stderr",
          "output_type": "stream",
          "text": [
            "<>:9: SyntaxWarning: \"is\" with a literal. Did you mean \"==\"?\n",
            "<>:9: SyntaxWarning: \"is\" with a literal. Did you mean \"==\"?\n",
            "/var/folders/r5/5v_j803101v_nmxqj00wtl100000gn/T/ipykernel_38899/3356530203.py:9: SyntaxWarning: \"is\" with a literal. Did you mean \"==\"?\n",
            "  if faces is ():\n",
            "/var/folders/r5/5v_j803101v_nmxqj00wtl100000gn/T/ipykernel_38899/3356530203.py:9: SyntaxWarning: \"is\" with a literal. Did you mean \"==\"?\n",
            "  if faces is ():\n",
            "/var/folders/r5/5v_j803101v_nmxqj00wtl100000gn/T/ipykernel_38899/3356530203.py:9: SyntaxWarning: \"is\" with a literal. Did you mean \"==\"?\n",
            "  if faces is ():\n",
            "/var/folders/r5/5v_j803101v_nmxqj00wtl100000gn/T/ipykernel_38899/3356530203.py:9: SyntaxWarning: \"is\" with a literal. Did you mean \"==\"?\n",
            "  if faces is ():\n"
          ]
        },
        {
          "ename": "KeyboardInterrupt",
          "evalue": "",
          "output_type": "error",
          "traceback": [
            "\u001b[0;31m---------------------------------------------------------------------------\u001b[0m",
            "\u001b[0;31mKeyboardInterrupt\u001b[0m                         Traceback (most recent call last)",
            "Cell \u001b[0;32mIn[9], line 39\u001b[0m\n\u001b[1;32m     37\u001b[0m   cv2\u001b[38;5;241m.\u001b[39mdestroyAllWindows()\n\u001b[1;32m     38\u001b[0m   \u001b[38;5;28mprint\u001b[39m(\u001b[38;5;124m\"\u001b[39m\u001b[38;5;124mCollecting samples is completed\u001b[39m\u001b[38;5;124m\"\u001b[39m)\n\u001b[0;32m---> 39\u001b[0m \u001b[43mgenerate_dataset\u001b[49m\u001b[43m(\u001b[49m\u001b[43m)\u001b[49m\n",
            "Cell \u001b[0;32mIn[9], line 34\u001b[0m, in \u001b[0;36mgenerate_dataset\u001b[0;34m()\u001b[0m\n\u001b[1;32m     30\u001b[0m     \u001b[38;5;66;03m# (50, 50) is the origin point from where text is to be written\u001b[39;00m\n\u001b[1;32m     31\u001b[0m     \u001b[38;5;66;03m# font scale= 1\u001b[39;00m\n\u001b[1;32m     32\u001b[0m     \u001b[38;5;66;03m# thickness = 2\u001b[39;00m\n\u001b[1;32m     33\u001b[0m     cv2\u001b[38;5;241m.\u001b[39mimshow(\u001b[38;5;124m\"\u001b[39m\u001b[38;5;124mCropped face\u001b[39m\u001b[38;5;124m\"\u001b[39m, face)\n\u001b[0;32m---> 34\u001b[0m     \u001b[38;5;28;01mif\u001b[39;00m \u001b[43mcv2\u001b[49m\u001b[38;5;241;43m.\u001b[39;49m\u001b[43mwaitKey\u001b[49m\u001b[43m(\u001b[49m\u001b[38;5;241;43m1\u001b[39;49m\u001b[43m)\u001b[49m \u001b[38;5;241m==\u001b[39m \u001b[38;5;241m13\u001b[39m \u001b[38;5;129;01mor\u001b[39;00m \u001b[38;5;28mint\u001b[39m(img_id) \u001b[38;5;241m==\u001b[39m \u001b[38;5;241m200\u001b[39m:\n\u001b[1;32m     35\u001b[0m       \u001b[38;5;28;01mbreak\u001b[39;00m\n\u001b[1;32m     36\u001b[0m cap\u001b[38;5;241m.\u001b[39mrelease()\n",
            "\u001b[0;31mKeyboardInterrupt\u001b[0m: "
          ]
        }
      ],
      "source": [
        "def generate_dataset():\n",
        "  face_classifier = cv2.CascadeClassifier(\"haarcascade_frontalface_default.xml\")\n",
        "  def face_cropped(img):\n",
        "    gray = cv2.cvtColor(img, cv2.COLOR_BGR2GRAY)\n",
        "    faces = face_classifier.detectMultiScale(gray, 1.3, 5)\n",
        "    # Scaling factor= 1.3\n",
        "    # Minimum neighbor = 5\n",
        "\n",
        "    if faces is ():\n",
        "      return None\n",
        "\n",
        "    for (x, y, w, h) in faces:\n",
        "      cropped_face = img[y:y+h, x:x+w]\n",
        "\n",
        "    return cropped_face\n",
        "\n",
        "  cap = cv2.VideoCapture(0)\n",
        "  id=1\n",
        "  img_id=0\n",
        "\n",
        "  while True:\n",
        "    ret, frame = cap.read()\n",
        "    if face_cropped(frame) is not None:\n",
        "      img_id+=1\n",
        "      face = cv2.resize(face_cropped(frame), (200, 200))\n",
        "      face = cv2.cvtColor(face, cv2.COLOR_BGR2GRAY)\n",
        "      file_name_path = \"data/user.\" + str(id) + \".\" + str(img_id) + \".jpg\"\n",
        "      cv2.imwrite(file_name_path, face)\n",
        "      cv2.putText(face, str(img_id), (50, 50), cv2.FONT_HERSHEY_COMPLEX, 1, (0, 255, 0), 2)\n",
        "      # (50, 50) is the origin point from where text is to be written\n",
        "      # font scale= 1\n",
        "      # thickness = 2\n",
        "      cv2.imshow(\"Cropped face\", face)\n",
        "      if cv2.waitKey(1) == 13 or int(img_id) == 200:\n",
        "        break\n",
        "  cap.release()\n",
        "  cv2.destroyAllWindows()\n",
        "  print(\"Collecting samples is completed\")\n",
        "generate_dataset()\n"
      ]
    },
    {
      "cell_type": "code",
      "execution_count": 10,
      "metadata": {},
      "outputs": [],
      "source": [
        "cv2.destroyAllWindows()"
      ]
    },
    {
      "cell_type": "code",
      "execution_count": 11,
      "metadata": {},
      "outputs": [
        {
          "name": "stdout",
          "output_type": "stream",
          "text": [
            "Requirement already satisfied: numpy in /Users/dustin/miniconda3/lib/python3.10/site-packages (1.25.2)\n",
            "Requirement already satisfied: Pillow in /Users/dustin/miniconda3/lib/python3.10/site-packages (10.0.1)\n"
          ]
        }
      ],
      "source": [
        "!pip install numpy\n",
        "!pip install Pillow"
      ]
    },
    {
      "cell_type": "code",
      "execution_count": 4,
      "metadata": {},
      "outputs": [],
      "source": [
        "import numpy as np\n",
        "from PIL import Image\n",
        "import os\n",
        "import cv2"
      ]
    },
    {
      "cell_type": "code",
      "execution_count": 14,
      "metadata": {},
      "outputs": [],
      "source": [
        "def train_classifier(data_dir):\n",
        "    path = [os.path.join(data_dir, f) for f in os.listdir(data_dir)]\n",
        "    faces = []\n",
        "    ids = []\n",
        "\n",
        "    for image in path:\n",
        "        img = Image.open(image).convert('L')\n",
        "        imageNp = np.array(img, 'uint8')\n",
        "        id = int(os.path.split(image)[1].split(\".\")[1])\n",
        "\n",
        "        faces.append(imageNp)\n",
        "        ids.append(id)\n",
        "    \n",
        "    ids = np.array(ids)\n",
        "\n",
        "    # Train the classifier and save\n",
        "    clf = cv2.face.LBPHFaceRecognizer_create()\n",
        "    clf.train(faces, ids)\n",
        "    clf.write(\"classifier.xml\")\n",
        "\n",
        "train_classifier(\"data\")"
      ]
    },
    {
      "cell_type": "markdown",
      "metadata": {},
      "source": [
        "# Detect the face and named it if it is already stored in our dataset"
      ]
    },
    {
      "cell_type": "code",
      "execution_count": 5,
      "metadata": {},
      "outputs": [],
      "source": [
        "def draw_boundary(img, classifier, scaleFactor, minNeighbors, color, text, clf):\n",
        "    gray_image = cv2.cvtColor(img, cv2.COLOR_BGR2GRAY)\n",
        "    features = classifier.detectMultiScale(gray_image, scaleFactor, minNeighbors)\n",
        "\n",
        "    coords = []\n",
        "\n",
        "    for (x, y, w, h) in features:\n",
        "        cv2.rectangle(img, (x, y), (x+w, y+h), color, 2)\n",
        "        id, pred = clf.predict(gray_image[y:y+h, x:x+w])\n",
        "        confidence = int(100*(1-pred/300))\n",
        "\n",
        "        if confidence > 77:\n",
        "            if id == 1:\n",
        "                cv2.putText(img, \"Dustin\", (x, y-5), cv2.FONT_HERSHEY_SIMPLEX, 0.8, color, 1, cv2.LINE_AA)\n",
        "        else:\n",
        "            cv2.putText(img, \"UNKNOWN\", (x, y-5), cv2.FONT_HERSHEY_SIMPLEX, 0.8, color, 1, cv2.LINE_AA)\n",
        "        \n",
        "        coords = [x, y, w, h]\n",
        "    return coords\n",
        "\n",
        "def recognize(img, clf, faceCascade):\n",
        "    coords = draw_boundary(img, faceCascade, 1.1, 10, (255, 255, 255), \"Face\", clf)\n",
        "    return img\n",
        "\n",
        "\n",
        "faceCascade = cv2.CascadeClassifier(\"haarcascade_frontalface_default.xml\")\n",
        "clf = cv2.face.LBPHFaceRecognizer_create()\n",
        "clf.read(\"classifier.xml\")\n",
        "\n",
        "video_capture = cv2.VideoCapture(0)\n",
        "\n",
        "while True:\n",
        "    ret, img = video_capture.read()\n",
        "    img = recognize(img, clf, faceCascade)\n",
        "    cv2.imshow(\"Face Detection\", img)\n",
        "\n",
        "    if cv2.waitKey(1) == 13:\n",
        "        break\n",
        "\n",
        "video_capture.release()\n",
        "cv2.destroyAllWindows()"
      ]
    }
  ],
  "metadata": {
    "colab": {
      "provenance": []
    },
    "kernelspec": {
      "display_name": "Python 3",
      "name": "python3"
    },
    "language_info": {
      "codemirror_mode": {
        "name": "ipython",
        "version": 3
      },
      "file_extension": ".py",
      "mimetype": "text/x-python",
      "name": "python",
      "nbconvert_exporter": "python",
      "pygments_lexer": "ipython3",
      "version": "3.10.10"
    }
  },
  "nbformat": 4,
  "nbformat_minor": 0
}
